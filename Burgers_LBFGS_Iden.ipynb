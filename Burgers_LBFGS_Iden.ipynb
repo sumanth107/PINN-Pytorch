{
  "nbformat": 4,
  "nbformat_minor": 0,
  "metadata": {
    "colab": {
      "name": "PyTorch_LBFGS_Iden.ipynb",
      "provenance": []
    },
    "kernelspec": {
      "name": "python3",
      "display_name": "Python 3"
    },
    "language_info": {
      "name": "python"
    }
  },
  "cells": [
    {
      "cell_type": "markdown",
      "source": [
        "# Burgers Equation Identification\n",
        "Equation:   $u_{t} + \\lambda_1 uu_{x}-\\lambda_2 u_{xx} = 0$  "
      ],
      "metadata": {
        "id": "CeBzlgW451oo"
      }
    },
    {
      "cell_type": "code",
      "execution_count": 3,
      "metadata": {
        "id": "6NWmnLUz5g5e"
      },
      "outputs": [],
      "source": [
        "#author : $um@nth\n",
        "import torch\n",
        "import torch.nn as nn\n",
        "import numpy as np\n",
        "from torch.autograd import grad\n",
        "import scipy.io\n",
        "from torch.utils.data import Dataset, DataLoader"
      ]
    },
    {
      "cell_type": "code",
      "source": [
        "N_u = 2000\n",
        "layers = [2, 25, 25, 25, 25, 25, 25, 25, 25, 1]\n",
        "data = scipy.io.loadmat('burgers_shock.mat') \n",
        "t = data['t'].flatten()[:,None]\n",
        "x = data['x'].flatten()[:,None]\n",
        "Exact = np.real(data['usol']).T\n",
        "X, T = np.meshgrid(x,t)\n",
        "X_star = np.hstack((X.flatten()[:,None], T.flatten()[:,None]))                  \n",
        "u_star = Exact.flatten()[:,None]                                                 \n",
        "lb = X_star.min(0)                                                              \n",
        "ub = X_star.max(0)\n",
        "np.random.seed(107)\n",
        "idx = np.random.choice(X_star.shape[0], N_u, replace=False)\n",
        "\n",
        "X_train = X_star[idx,:]\n",
        "u_train = torch.from_numpy(u_star[idx,:]).float()\n",
        "X = torch.from_numpy(X_train[:,0:1]).requires_grad_(True).float()     \n",
        "T = torch.from_numpy(X_train[:,1:2]).requires_grad_(True).float()"
      ],
      "metadata": {
        "id": "R_Mfqz176Uwx"
      },
      "execution_count": 17,
      "outputs": []
    },
    {
      "cell_type": "code",
      "source": [
        "class PINN(nn.Module):\n",
        "\n",
        "  def __init__(self, layers):\n",
        "    super(PINN, self).__init__()\n",
        "    self.layers = nn.ModuleList()\n",
        "    for i, j in zip(layers, layers[1:]):\n",
        "      linear = nn.Linear(i, j)\n",
        "      nn.init.xavier_normal_(linear.weight.data, gain = 1.0)\n",
        "      nn.init.zeros_(linear.bias.data)\n",
        "      self.layers.append(linear)\n",
        "  \n",
        "  def forward(self, x):\n",
        "    L = len(self.layers)\n",
        "    for l, transform in enumerate(self.layers):\n",
        "      if l < L-1:\n",
        "        x = torch.tanh(transform(x))\n",
        "      else:\n",
        "        x = transform(x)\n",
        "    return x   "
      ],
      "metadata": {
        "id": "GIEjbgFQ6UuR"
      },
      "execution_count": 18,
      "outputs": []
    },
    {
      "cell_type": "code",
      "source": [
        "class PINN_Run():\n",
        "\n",
        "  def __init__(self, X, T, model, u_train):\n",
        "    self.X = X\n",
        "    self.T = T\n",
        "    self.u_train = u_train\n",
        "    self.model = model\n",
        "    self.i = 0\n",
        "    self.l1 = nn.Parameter(torch.tensor([0.], requires_grad=True))\n",
        "    self.l2 = nn.Parameter(torch.tensor([0.], requires_grad=True))\n",
        "    self.model.register_parameter('lambda_1', self.l1)\n",
        "    self.model.register_parameter('lambda_2', self.l2)\n",
        "    self.optimizer = torch.optim.LBFGS(\n",
        "            self.model.parameters(), \n",
        "            lr = 1, \n",
        "            max_iter = 20000, \n",
        "            max_eval = 20000, \n",
        "            history_size = 50,\n",
        "            tolerance_grad = 1e-5, \n",
        "            tolerance_change = 1.0 * np.finfo(float).eps,\n",
        "            line_search_fn = \"strong_wolfe\"\n",
        "        )\n",
        "  \n",
        "  def residual_loss(self):\n",
        "    xf = torch.cat([self.X, self.T], axis=1)\n",
        "    uf = self.model(xf)\n",
        "    u_x = grad(uf.sum(), self.X, retain_graph = True, create_graph = True)[0]\n",
        "    u_xx = grad(u_x.sum(), self.X, retain_graph = True, create_graph = True)[0]\n",
        "    u_t = grad(uf.sum(), self.T, retain_graph = True, create_graph = True)[0]\n",
        "    f = u_t + self.l1*uf*u_x - self.l2*u_xx \n",
        "    return torch.mean(torch.square(f))\n",
        "  \n",
        "  def closure(self):\n",
        "    self.model.train()\n",
        "    mse = nn.MSELoss()\n",
        "    self.optimizer.zero_grad()\n",
        "    yhat = self.model(torch.cat([self.X, self.T], axis=1).float())\n",
        "    loss1 = mse(yhat, self.u_train)\n",
        "    loss2 = self.residual_loss()\n",
        "    loss = loss1 + loss2\n",
        "    loss.backward()\n",
        "    if self.i % 100 == 0:\n",
        "      print('Epoch:', self.i, 'Loss: %.5e, Lambda_1: %.5f, Lambda_2: %.5f' % (loss.item(), self.l1, self.l2))\n",
        "    self.i += 1\n",
        "    return loss\n",
        "  \n",
        "  def train_(self):\n",
        "    self.optimizer.step(self.closure)"
      ],
      "metadata": {
        "id": "bLh-3_wG6UsI"
      },
      "execution_count": 34,
      "outputs": []
    },
    {
      "cell_type": "code",
      "source": [
        "pinn_model = PINN(layers)\n",
        "pinn_ = PINN_Run(X, T, pinn_model, u_train)\n",
        "pinn_.train_()"
      ],
      "metadata": {
        "colab": {
          "base_uri": "https://localhost:8080/"
        },
        "id": "XVRKM9WJ6Upw",
        "outputId": "44c7f628-a65e-4160-85f3-75becb5d35f0"
      },
      "execution_count": 35,
      "outputs": [
        {
          "output_type": "stream",
          "name": "stdout",
          "text": [
            "Epoch: 0 Loss: 4.74090e-01, Lambda_1: 0.00000, Lambda_2: 0.00000\n",
            "Epoch: 100 Loss: 3.15923e-02, Lambda_1: 0.09032, Lambda_2: 0.00187\n",
            "Epoch: 200 Loss: 2.44118e-02, Lambda_1: 0.15859, Lambda_2: 0.00090\n",
            "Epoch: 300 Loss: 2.44214e-02, Lambda_1: 0.40701, Lambda_2: 0.00487\n",
            "Epoch: 400 Loss: 1.79056e-02, Lambda_1: 0.45164, Lambda_2: 0.00372\n",
            "Epoch: 500 Loss: 1.28324e-02, Lambda_1: 0.65857, Lambda_2: 0.00707\n",
            "Epoch: 600 Loss: 9.06787e-03, Lambda_1: 0.68401, Lambda_2: 0.00594\n",
            "Epoch: 700 Loss: 7.32466e-03, Lambda_1: 0.69197, Lambda_2: 0.00470\n",
            "Epoch: 800 Loss: 5.86729e-03, Lambda_1: 0.77323, Lambda_2: 0.00480\n",
            "Epoch: 900 Loss: 4.67202e-03, Lambda_1: 0.83809, Lambda_2: 0.00462\n",
            "Epoch: 1000 Loss: 4.08641e-03, Lambda_1: 0.84423, Lambda_2: 0.00476\n",
            "Epoch: 1100 Loss: 3.61925e-03, Lambda_1: 0.84939, Lambda_2: 0.00465\n",
            "Epoch: 1200 Loss: 3.11064e-03, Lambda_1: 0.86773, Lambda_2: 0.00449\n",
            "Epoch: 1300 Loss: 2.83670e-03, Lambda_1: 0.88440, Lambda_2: 0.00444\n",
            "Epoch: 1400 Loss: 2.50535e-03, Lambda_1: 0.87494, Lambda_2: 0.00425\n",
            "Epoch: 1500 Loss: 2.11090e-03, Lambda_1: 0.89851, Lambda_2: 0.00452\n",
            "Epoch: 1600 Loss: 4.08902e-02, Lambda_1: 0.96480, Lambda_2: 0.00394\n",
            "Epoch: 1700 Loss: 1.78984e-03, Lambda_1: 0.91288, Lambda_2: 0.00429\n",
            "Epoch: 1800 Loss: 1.63532e-03, Lambda_1: 0.92520, Lambda_2: 0.00429\n",
            "Epoch: 1900 Loss: 1.45564e-03, Lambda_1: 0.93808, Lambda_2: 0.00416\n",
            "Epoch: 2000 Loss: 1.34256e-03, Lambda_1: 0.91850, Lambda_2: 0.00408\n",
            "Epoch: 2100 Loss: 1.25469e-03, Lambda_1: 0.92397, Lambda_2: 0.00411\n",
            "Epoch: 2200 Loss: 1.14001e-03, Lambda_1: 0.92158, Lambda_2: 0.00410\n",
            "Epoch: 2300 Loss: 1.02479e-03, Lambda_1: 0.92311, Lambda_2: 0.00408\n",
            "Epoch: 2400 Loss: 9.66751e-04, Lambda_1: 0.92575, Lambda_2: 0.00414\n",
            "Epoch: 2500 Loss: 9.16536e-04, Lambda_1: 0.93244, Lambda_2: 0.00418\n",
            "Epoch: 2600 Loss: 8.62410e-04, Lambda_1: 0.94529, Lambda_2: 0.00422\n",
            "Epoch: 2700 Loss: 8.23755e-04, Lambda_1: 0.94444, Lambda_2: 0.00420\n",
            "Epoch: 2800 Loss: 7.39563e-04, Lambda_1: 0.95137, Lambda_2: 0.00413\n",
            "Epoch: 2900 Loss: 6.74101e-04, Lambda_1: 0.95584, Lambda_2: 0.00403\n",
            "Epoch: 3000 Loss: 6.26992e-04, Lambda_1: 0.95722, Lambda_2: 0.00403\n",
            "Epoch: 3100 Loss: 5.60852e-04, Lambda_1: 0.95994, Lambda_2: 0.00398\n",
            "Epoch: 3200 Loss: 5.32864e-04, Lambda_1: 0.96312, Lambda_2: 0.00396\n",
            "Epoch: 3300 Loss: 4.78685e-04, Lambda_1: 0.96520, Lambda_2: 0.00387\n",
            "Epoch: 3400 Loss: 4.29497e-04, Lambda_1: 0.97016, Lambda_2: 0.00380\n",
            "Epoch: 3500 Loss: 3.95904e-04, Lambda_1: 0.97765, Lambda_2: 0.00378\n",
            "Epoch: 3600 Loss: 3.73314e-04, Lambda_1: 0.97801, Lambda_2: 0.00375\n",
            "Epoch: 3700 Loss: 3.31848e-04, Lambda_1: 0.98411, Lambda_2: 0.00371\n",
            "Epoch: 3800 Loss: 3.10249e-04, Lambda_1: 0.98523, Lambda_2: 0.00366\n",
            "Epoch: 3900 Loss: 2.98003e-04, Lambda_1: 0.98576, Lambda_2: 0.00364\n",
            "Epoch: 4000 Loss: 2.80565e-04, Lambda_1: 0.98393, Lambda_2: 0.00360\n",
            "Epoch: 4100 Loss: 2.73337e-04, Lambda_1: 0.98283, Lambda_2: 0.00359\n",
            "Epoch: 4200 Loss: 2.58680e-04, Lambda_1: 0.98782, Lambda_2: 0.00357\n",
            "Epoch: 4300 Loss: 2.46252e-04, Lambda_1: 0.98980, Lambda_2: 0.00353\n",
            "Epoch: 4400 Loss: 2.37343e-04, Lambda_1: 0.98739, Lambda_2: 0.00349\n",
            "Epoch: 4500 Loss: 2.31360e-04, Lambda_1: 0.98830, Lambda_2: 0.00349\n",
            "Epoch: 4600 Loss: 2.25243e-04, Lambda_1: 0.98639, Lambda_2: 0.00347\n",
            "Epoch: 4700 Loss: 2.17035e-04, Lambda_1: 0.98646, Lambda_2: 0.00340\n",
            "Epoch: 4800 Loss: 2.09536e-04, Lambda_1: 0.98923, Lambda_2: 0.00337\n",
            "Epoch: 4900 Loss: 2.03190e-04, Lambda_1: 0.98793, Lambda_2: 0.00334\n",
            "Epoch: 5000 Loss: 1.96215e-04, Lambda_1: 0.98226, Lambda_2: 0.00331\n",
            "Epoch: 5100 Loss: 1.91422e-04, Lambda_1: 0.98274, Lambda_2: 0.00329\n",
            "Epoch: 5200 Loss: 1.84469e-04, Lambda_1: 0.98453, Lambda_2: 0.00329\n",
            "Epoch: 5300 Loss: 1.78652e-04, Lambda_1: 0.98458, Lambda_2: 0.00326\n",
            "Epoch: 5400 Loss: 1.68336e-04, Lambda_1: 0.98654, Lambda_2: 0.00329\n",
            "Epoch: 5500 Loss: 1.61081e-04, Lambda_1: 0.98900, Lambda_2: 0.00330\n",
            "Epoch: 5600 Loss: 1.58071e-04, Lambda_1: 0.98917, Lambda_2: 0.00329\n",
            "Epoch: 5700 Loss: 1.54539e-04, Lambda_1: 0.98848, Lambda_2: 0.00328\n"
          ]
        }
      ]
    },
    {
      "cell_type": "code",
      "source": [
        "lambda1 = float(pinn_model.lambda_1.data)\n",
        "lambda2 = float(pinn_model.lambda_2.data)\n",
        "print('Lambda1 Pred:', round(lambda1,8), '  ; Lambda1 Actual:', 1.0)\n",
        "print('Lambda2 Pred:', round(lambda2,8), '  ; Lambda2 Actual:', round(0.01/np.pi,8))"
      ],
      "metadata": {
        "colab": {
          "base_uri": "https://localhost:8080/"
        },
        "id": "rBb6wkix6Uni",
        "outputId": "9a310775-41b7-4f59-a8e5-51718114b9f0"
      },
      "execution_count": 37,
      "outputs": [
        {
          "output_type": "stream",
          "name": "stdout",
          "text": [
            "Lambda1 Pred: 0.98847651   ; Lambda1 Actual: 1.0\n",
            "Lambda2 Pred: 0.00328013   ; Lambda2 Actual: 0.0031831\n"
          ]
        }
      ]
    },
    {
      "cell_type": "code",
      "source": [],
      "metadata": {
        "id": "2n1_urU96Ulg"
      },
      "execution_count": null,
      "outputs": []
    },
    {
      "cell_type": "code",
      "source": [],
      "metadata": {
        "id": "Fn8EKUDn6UjA"
      },
      "execution_count": null,
      "outputs": []
    },
    {
      "cell_type": "code",
      "source": [],
      "metadata": {
        "id": "bgVzOq7T6UeY"
      },
      "execution_count": null,
      "outputs": []
    },
    {
      "cell_type": "code",
      "source": [],
      "metadata": {
        "id": "t_h5WtEj6UZo"
      },
      "execution_count": null,
      "outputs": []
    }
  ]
}